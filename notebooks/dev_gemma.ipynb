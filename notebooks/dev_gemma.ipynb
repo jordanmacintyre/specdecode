{
 "cells": [
  {
   "cell_type": "code",
   "execution_count": 1,
   "id": "75fc84d9",
   "metadata": {},
   "outputs": [],
   "source": [
    "from transformers import (\n",
    "    AutoTokenizer,\n",
    "    AutoProcessor,\n",
    "    AutoModelForImageTextToText,\n",
    "    AutoModelForCausalLM,\n",
    "    BitsAndBytesConfig,\n",
    ")\n",
    "\n",
    "import torch"
   ]
  },
  {
   "cell_type": "code",
   "execution_count": 2,
   "id": "6bbf1a2e",
   "metadata": {},
   "outputs": [],
   "source": [
    "draft_model_id = \"google/gemma-3-1b-it\"\n",
    "target_model_id = \"google/gemma-3-12b-it\"\n",
    "\n",
    "bnb_config = BitsAndBytesConfig(\n",
    "    load_in_4bit=True,\n",
    "    bnb_4bit_compute_dtype=\"float16\",\n",
    "    bnb_4bit_quant_type=\"nf4\",\n",
    "    bnb_4bit_use_double_quant=True,\n",
    ")"
   ]
  },
  {
   "cell_type": "code",
   "execution_count": 3,
   "id": "bf96ff39",
   "metadata": {},
   "outputs": [
    {
     "data": {
      "application/vnd.jupyter.widget-view+json": {
       "model_id": "42a5b1cb5bf44f62b8a874c4380b12ed",
       "version_major": 2,
       "version_minor": 0
      },
      "text/plain": [
       "Loading checkpoint shards:   0%|          | 0/5 [00:00<?, ?it/s]"
      ]
     },
     "metadata": {},
     "output_type": "display_data"
    },
    {
     "name": "stderr",
     "output_type": "stream",
     "text": [
      "Using a slow image processor as `use_fast` is unset and a slow processor was saved with this model. `use_fast=True` will be the default behavior in v4.52, even if the model was saved with a slow processor. This will result in minor differences in outputs. You'll still be able to use a slow processor with `use_fast=False`.\n"
     ]
    }
   ],
   "source": [
    "# Keep draft model on single GPU\n",
    "draft_model = AutoModelForCausalLM.from_pretrained(\n",
    "    draft_model_id,\n",
    "    device_map=\"cuda:0\",\n",
    "    torch_dtype=\"auto\",\n",
    "    quantization_config=bnb_config,\n",
    ")\n",
    "tokenizer = AutoTokenizer.from_pretrained(draft_model_id)\n",
    "\n",
    "# Split target model across GPUs\n",
    "target_model = AutoModelForImageTextToText.from_pretrained(\n",
    "    target_model_id,\n",
    "    device_map=\"auto\",\n",
    "    torch_dtype=\"auto\",\n",
    "    quantization_config=bnb_config,\n",
    ")\n",
    "processor = AutoProcessor.from_pretrained(target_model_id)"
   ]
  },
  {
   "cell_type": "code",
   "execution_count": 4,
   "id": "70f1b821",
   "metadata": {},
   "outputs": [],
   "source": [
    "def prepare_prompt(prompt, preprocessor, max_prompt_len):\n",
    "    messages = [\n",
    "        {\"role\": \"user\", \"content\": [{\"type\": \"text\", \"text\": f\"{prompt}\"}]},\n",
    "    ]\n",
    "    return preprocessor.apply_chat_template(\n",
    "        messages,\n",
    "        add_generation_prompt=True,\n",
    "        tokenize=True,\n",
    "        return_dict=True,\n",
    "        truncation=True,\n",
    "        max_length=max_prompt_len,\n",
    "        return_tensors=\"pt\",\n",
    "    )"
   ]
  },
  {
   "cell_type": "code",
   "execution_count": 5,
   "id": "a8aeec2e",
   "metadata": {},
   "outputs": [],
   "source": [
    "def generate(model, preprocessor, prompt, max_prompt_len, max_new_tokens):\n",
    "    with torch.inference_mode():\n",
    "        inputs = prepare_prompt(prompt, preprocessor, max_prompt_len)\n",
    "        outputs = model.generate(\n",
    "            **inputs.to(model.device),\n",
    "            max_new_tokens=max_new_tokens,\n",
    "        )\n",
    "    return preprocessor.decode(outputs[0][inputs[\"input_ids\"].shape[-1] :])"
   ]
  },
  {
   "cell_type": "code",
   "execution_count": 6,
   "id": "7fbed143",
   "metadata": {},
   "outputs": [],
   "source": [
    "max_prompt_len = 256\n",
    "max_new_tokens = 32\n",
    "prompt = \"Who are you?\""
   ]
  },
  {
   "cell_type": "code",
   "execution_count": 7,
   "id": "8dbd83ed",
   "metadata": {},
   "outputs": [
    {
     "name": "stdout",
     "output_type": "stream",
     "text": [
      "Hi there! I'm Gemma, a large language model created by the Gemma team at Google DeepMind. I'm an open-weights model, which\n"
     ]
    }
   ],
   "source": [
    "# Draft Model\n",
    "result = generate(draft_model, tokenizer, prompt, max_prompt_len, max_new_tokens)\n",
    "print(result)"
   ]
  },
  {
   "cell_type": "code",
   "execution_count": 8,
   "id": "fb63e7b4",
   "metadata": {},
   "outputs": [
    {
     "name": "stdout",
     "output_type": "stream",
     "text": [
      "I'm Gemma, an open-weights AI assistant. I'm a large language model created by the Gemma team at Google DeepMind. \n",
      "\n",
      "Here\n"
     ]
    }
   ],
   "source": [
    "# Target Model\n",
    "result = generate(target_model, processor, prompt, max_prompt_len, max_new_tokens)\n",
    "print(result)"
   ]
  },
  {
   "cell_type": "code",
   "execution_count": null,
   "id": "0c7b43e8",
   "metadata": {},
   "outputs": [],
   "source": []
  }
 ],
 "metadata": {
  "kernelspec": {
   "display_name": "ml-eng",
   "language": "python",
   "name": "python3"
  },
  "language_info": {
   "codemirror_mode": {
    "name": "ipython",
    "version": 3
   },
   "file_extension": ".py",
   "mimetype": "text/x-python",
   "name": "python",
   "nbconvert_exporter": "python",
   "pygments_lexer": "ipython3",
   "version": "3.12.11"
  }
 },
 "nbformat": 4,
 "nbformat_minor": 5
}
