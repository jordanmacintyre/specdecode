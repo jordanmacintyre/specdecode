{
 "cells": [
  {
   "cell_type": "code",
   "execution_count": null,
   "id": "8cf91048",
   "metadata": {},
   "outputs": [],
   "source": [
    "from transformers import AutoModelForCausalLM, AutoTokenizer, BitsAndBytesConfig\n",
    "from datasets import load_dataset\n",
    "from torch.utils.data import DataLoader\n",
    "import torch\n",
    "from tqdm import tqdm"
   ]
  },
  {
   "cell_type": "code",
   "execution_count": null,
   "id": "1602a401",
   "metadata": {},
   "outputs": [],
   "source": [
    "draft_id = \"google/gemma-3-270m-it\"\n",
    "target_id = \"google/gemma-3-4b-it\"\n",
    "\n",
    "bnb_config = BitsAndBytesConfig(\n",
    "    load_in_4bit=True,\n",
    "    bnb_4bit_compute_dtype=torch.bfloat16,\n",
    "    bnb_4bit_quant_type=\"nf4\",\n",
    "    bnb_4bit_use_double_quant=True,\n",
    ")\n",
    "\n",
    "draft = AutoModelForCausalLM.from_pretrained(\n",
    "    draft_id,\n",
    "    torch_dtype=torch.bfloat16,\n",
    "    device_map=\"cuda:1\",\n",
    "    quantization_config=bnb_config,\n",
    "    attn_implementation=\"flash_attention_2\",\n",
    ").eval()\n",
    "\n",
    "target = AutoModelForCausalLM.from_pretrained(\n",
    "    target_id,\n",
    "    torch_dtype=torch.bfloat16,\n",
    "    device_map=\"cuda:1\",\n",
    "    quantization_config=bnb_config,\n",
    "    attn_implementation=\"flash_attention_2\",\n",
    ").eval()\n",
    "\n",
    "tok = AutoTokenizer.from_pretrained(draft_id, use_fast=True)"
   ]
  },
  {
   "cell_type": "code",
   "execution_count": null,
   "id": "856b2ec8",
   "metadata": {},
   "outputs": [],
   "source": [
    "ds = load_dataset(path=\"openai/gsm8k\", name=\"main\", split=\"test[:16]\")"
   ]
  },
  {
   "cell_type": "code",
   "execution_count": null,
   "id": "fdb7801e",
   "metadata": {},
   "outputs": [],
   "source": [
    "def tokenize_function(examples, tok, max_length):\n",
    "    prompt_text = [\n",
    "        tok.apply_chat_template(\n",
    "            [{\"role\": \"user\", \"content\": text}],\n",
    "            tokenize=False,\n",
    "            add_generation_prompt=True,\n",
    "        )\n",
    "        for text in ds[\"question\"]\n",
    "    ]\n",
    "\n",
    "    tokenized_prompt = tok(\n",
    "        prompt_text,\n",
    "        padding=\"max_length\",\n",
    "        max_length=max_length,\n",
    "        truncation=True,\n",
    "        return_tensors=\"pt\",\n",
    "        return_attention_mask=True,\n",
    "    )\n",
    "\n",
    "    return {\n",
    "        \"input_ids\": tokenized_prompt[\"input_ids\"],\n",
    "        \"attention_mask\": tokenized_prompt[\"attention_mask\"],\n",
    "    }\n",
    "\n",
    "\n",
    "tokenized_dataset = ds.map(\n",
    "    tokenize_function,\n",
    "    fn_kwargs={\"tok\": tok, \"max_length\": 256},\n",
    "    batched=True,\n",
    "    remove_columns=ds.column_names,\n",
    ")\n",
    "\n",
    "# 2) Tell datasets to return torch tensors on indexing\n",
    "tokenized_dataset = tokenized_dataset.with_format(\n",
    "    type=\"torch\",\n",
    "    columns=[\"input_ids\", \"attention_mask\"],\n",
    ")"
   ]
  },
  {
   "cell_type": "code",
   "execution_count": null,
   "id": "292c3ab9",
   "metadata": {},
   "outputs": [],
   "source": [
    "dl = DataLoader(tokenized_dataset, batch_size=1, shuffle=False, drop_last=False)"
   ]
  },
  {
   "cell_type": "code",
   "execution_count": null,
   "id": "18a61d7a",
   "metadata": {},
   "outputs": [],
   "source": [
    "device = \"cuda:1\"\n",
    "for batch in tqdm(dl):\n",
    "    batch = {k: v.to(device) for k, v in batch.items()}\n",
    "    with torch.inference_mode():\n",
    "        d_out = draft.generate(\n",
    "            **batch,\n",
    "            past_key_values=None,\n",
    "            use_cache=True,\n",
    "            do_sample=False,\n",
    "            max_new_tokens=256,\n",
    "            return_dict_in_generate=True,\n",
    "            output_scores=True,\n",
    "            top_p=None,\n",
    "            top_k=None,\n",
    "            pad_token_id=tok.pad_token_id,\n",
    "        )"
   ]
  },
  {
   "cell_type": "code",
   "execution_count": null,
   "id": "556e2a0d",
   "metadata": {},
   "outputs": [],
   "source": [
    "for batch in tqdm(dl):\n",
    "    batch = {k: v.to(device) for k, v in batch.items()}\n",
    "    with torch.inference_mode():\n",
    "        t_out = target.generate(\n",
    "            **batch,\n",
    "            past_key_values=None,\n",
    "            use_cache=True,\n",
    "            do_sample=False,\n",
    "            max_new_tokens=256,\n",
    "            return_dict_in_generate=True,\n",
    "            output_scores=True,\n",
    "            top_p=None,\n",
    "            top_k=None,\n",
    "            pad_token_id=tok.pad_token_id,\n",
    "        )"
   ]
  },
  {
   "cell_type": "code",
   "execution_count": null,
   "id": "a47806ee",
   "metadata": {},
   "outputs": [],
   "source": [
    "resulting_text = tok.batch_decode(\n",
    "    t_out[\"sequences\"], skip_special_tokens=True, clean_up_tokenization_spaces=True\n",
    ")\n",
    "\n",
    "for t in resulting_text:\n",
    "    print(\"#####\")\n",
    "    print(\"START\")\n",
    "    print(\"#####\")\n",
    "    print(t)"
   ]
  }
 ],
 "metadata": {
  "kernelspec": {
   "display_name": "ml-eng",
   "language": "python",
   "name": "python3"
  },
  "language_info": {
   "codemirror_mode": {
    "name": "ipython",
    "version": 3
   },
   "file_extension": ".py",
   "mimetype": "text/x-python",
   "name": "python",
   "nbconvert_exporter": "python",
   "pygments_lexer": "ipython3",
   "version": "3.12.3"
  }
 },
 "nbformat": 4,
 "nbformat_minor": 5
}
